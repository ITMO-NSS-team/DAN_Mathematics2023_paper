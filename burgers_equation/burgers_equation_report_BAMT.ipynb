{
 "cells": [
  {
   "cell_type": "markdown",
   "id": "6bbd86d3",
   "metadata": {},
   "source": [
    "<h2><center>Невязкое уравнение Бюргерса</center></h2>\n",
    "$$\\frac{\\partial u}{\\partial t} +  u \\frac{\\partial u}{\\partial x} = 0$$\n",
    "\n",
    "Источник: <br>\n",
    "https://github.com/urban-fasel/EnsembleSINDy <br>\n",
    "https://github.com/urban-fasel/EnsembleSINDy/blob/main/PDE-FIND/datasets/burgers.mat <br>\n",
    "\n",
    "\n",
    "$$256\\times256$$\n",
    "$$ x \\in [-4000; 4000]$$\n",
    "$$ t \\in [0; 4]$$\n",
    "----"
   ]
  },
  {
   "cell_type": "code",
   "execution_count": 1,
   "id": "8d42da1a",
   "metadata": {},
   "outputs": [],
   "source": [
    "import pandas as pd\n",
    "import numpy as np\n",
    "from sklearn import preprocessing\n",
    "import matplotlib.pyplot as plt\n",
    "\n",
    "import bamt.Networks as Nets\n",
    "import bamt.Nodes as Nodes\n",
    "import bamt.Preprocessors as pp\n",
    "from pgmpy.estimators import K2Score\n",
    "\n",
    "from sklearn.tree import DecisionTreeClassifier\n",
    "from sklearn.ensemble import RandomForestClassifier\n",
    "from sklearn.neighbors import KNeighborsClassifier\n",
    "None"
   ]
  },
  {
   "cell_type": "markdown",
   "id": "cb0e6683",
   "metadata": {},
   "source": [
    "### 1. Предварительная обработка"
   ]
  },
  {
   "cell_type": "code",
   "execution_count": 2,
   "id": "c85fb7e0",
   "metadata": {},
   "outputs": [
    {
     "data": {
      "text/plain": [
       "(82, 9)"
      ]
     },
     "execution_count": 2,
     "metadata": {},
     "output_type": "execute_result"
    }
   ],
   "source": [
    "df = pd.read_csv('output_main_burgers_equation.csv', index_col = 'Unnamed: 0', sep='\\t', encoding='utf-8')\n",
    "df.shape"
   ]
  },
  {
   "cell_type": "code",
   "execution_count": 3,
   "id": "3b584d40",
   "metadata": {},
   "outputs": [],
   "source": [
    "for col in df.columns:\n",
    "        df[col] = df[col].round(decimals = 10)"
   ]
  },
  {
   "cell_type": "code",
   "execution_count": 4,
   "id": "9143ae6e",
   "metadata": {},
   "outputs": [
    {
     "data": {
      "text/plain": [
       "du/dx1{power: 1.0}                      66\n",
       "C                                        3\n",
       "du/dx2{power: 1.0} * u{power: 1.0}      16\n",
       "du/dx2{power: 1.0} * u{power: 1.0}_r    66\n",
       "du/dx1{power: 1.0}_r                    13\n",
       "du/dx2{power: 1.0}_r                     3\n",
       "dtype: int64"
      ]
     },
     "execution_count": 4,
     "metadata": {},
     "output_type": "execute_result"
    }
   ],
   "source": [
    "# Удаление строк, если все коэф. левой части равны нулю, а коэф. правой части -1 (по сумме элементов строки)\n",
    "df = df.loc[(df.sum(axis=1) != -1), (df.sum(axis=0) != 0)]\n",
    "# Удаление нулевых столбцов\n",
    "df = df.loc[:, (df != 0).any(axis=0)]\n",
    "# Кол-во ненулевых значений в столбцах/структурах\n",
    "(df != 0).sum(axis = 0)"
   ]
  },
  {
   "cell_type": "code",
   "execution_count": 5,
   "id": "d40ac064",
   "metadata": {},
   "outputs": [
    {
     "data": {
      "text/plain": [
       "(82, 6)"
      ]
     },
     "execution_count": 5,
     "metadata": {},
     "output_type": "execute_result"
    }
   ],
   "source": [
    "df.shape"
   ]
  },
  {
   "cell_type": "code",
   "execution_count": 6,
   "id": "0d1ea61a",
   "metadata": {},
   "outputs": [],
   "source": [
    "df_new = df\n",
    "for col in df_new.columns:\n",
    "    if '_r' not in col and col + \"_r\" in df_new.columns: # объединение повторных структур (справа и слева ур-ния)\n",
    "        temp = df_new[col + \"_r\"] + df_new[col]\n",
    "        arr_value = temp.unique()\n",
    "        arr_value.sort()\n",
    "        if len(arr_value) == 2 and (arr_value == np.array([-1, 0])).all(): # отделение структур правой части\n",
    "            df_new[col + \"_r\"] = df_new[col + \"_r\"] + df_new[col]\n",
    "            df_new = df_new.drop(col, axis=1)\n",
    "        else:\n",
    "            df_new[col] = df_new[col + \"_r\"] + df_new[col]\n",
    "            df_new = df_new.drop(col + \"_r\", axis=1) "
   ]
  },
  {
   "cell_type": "code",
   "execution_count": 7,
   "id": "c1641a50",
   "metadata": {},
   "outputs": [
    {
     "data": {
      "text/plain": [
       "(82, 4)"
      ]
     },
     "execution_count": 7,
     "metadata": {},
     "output_type": "execute_result"
    }
   ],
   "source": [
    "df_new.shape"
   ]
  },
  {
   "cell_type": "code",
   "execution_count": 9,
   "id": "13ae6373",
   "metadata": {},
   "outputs": [],
   "source": [
    "for col in df_new.columns:\n",
    "    if '_r' in col:\n",
    "        df_new = df_new.astype({col: \"int64\"})\n",
    "        df_new = df_new.astype({col: \"str\"}) # дискретные значение оборачиваем в строку для корректной работы при обучении"
   ]
  },
  {
   "cell_type": "code",
   "execution_count": 10,
   "id": "9577d402",
   "metadata": {},
   "outputs": [
    {
     "data": {
      "text/html": [
       "<div>\n",
       "<style scoped>\n",
       "    .dataframe tbody tr th:only-of-type {\n",
       "        vertical-align: middle;\n",
       "    }\n",
       "\n",
       "    .dataframe tbody tr th {\n",
       "        vertical-align: top;\n",
       "    }\n",
       "\n",
       "    .dataframe thead th {\n",
       "        text-align: right;\n",
       "    }\n",
       "</style>\n",
       "<table border=\"1\" class=\"dataframe\">\n",
       "  <thead>\n",
       "    <tr style=\"text-align: right;\">\n",
       "      <th></th>\n",
       "      <th>C</th>\n",
       "      <th>du/dx2{power: 1.0} * u{power: 1.0}</th>\n",
       "      <th>du/dx1{power: 1.0}_r</th>\n",
       "      <th>du/dx2{power: 1.0}_r</th>\n",
       "      <th>size</th>\n",
       "    </tr>\n",
       "  </thead>\n",
       "  <tbody>\n",
       "    <tr>\n",
       "      <th>0</th>\n",
       "      <td>-0.014616</td>\n",
       "      <td>0.001522</td>\n",
       "      <td>0</td>\n",
       "      <td>-1</td>\n",
       "      <td>3</td>\n",
       "    </tr>\n",
       "    <tr>\n",
       "      <th>1</th>\n",
       "      <td>-0.000000</td>\n",
       "      <td>-1.000000</td>\n",
       "      <td>-1</td>\n",
       "      <td>0</td>\n",
       "      <td>79</td>\n",
       "    </tr>\n",
       "  </tbody>\n",
       "</table>\n",
       "</div>"
      ],
      "text/plain": [
       "          C  du/dx2{power: 1.0} * u{power: 1.0} du/dx1{power: 1.0}_r  \\\n",
       "0 -0.014616                            0.001522                    0   \n",
       "1 -0.000000                           -1.000000                   -1   \n",
       "\n",
       "  du/dx2{power: 1.0}_r  size  \n",
       "0                   -1     3  \n",
       "1                    0    79  "
      ]
     },
     "execution_count": 10,
     "metadata": {},
     "output_type": "execute_result"
    }
   ],
   "source": [
    "df_new.groupby(df_new.columns.tolist(),as_index=False).size()"
   ]
  },
  {
   "cell_type": "code",
   "execution_count": 11,
   "id": "67c9f2b9",
   "metadata": {},
   "outputs": [
    {
     "name": "stdout",
     "output_type": "stream",
     "text": [
      "<class 'pandas.core.frame.DataFrame'>\n",
      "Int64Index: 82 entries, 0 to 81\n",
      "Data columns (total 4 columns):\n",
      " #   Column                              Non-Null Count  Dtype  \n",
      "---  ------                              --------------  -----  \n",
      " 0   C                                   82 non-null     float64\n",
      " 1   du/dx2{power: 1.0} * u{power: 1.0}  82 non-null     float64\n",
      " 2   du/dx1{power: 1.0}_r                82 non-null     object \n",
      " 3   du/dx2{power: 1.0}_r                82 non-null     object \n",
      "dtypes: float64(2), object(2)\n",
      "memory usage: 3.2+ KB\n"
     ]
    }
   ],
   "source": [
    "df_new.info()"
   ]
  },
  {
   "cell_type": "markdown",
   "id": "417f64bd",
   "metadata": {},
   "source": [
    "### 2.Инициализация байесовской сети"
   ]
  },
  {
   "cell_type": "code",
   "execution_count": 12,
   "id": "10c9c13a",
   "metadata": {},
   "outputs": [],
   "source": [
    "discretizer = preprocessing.KBinsDiscretizer(n_bins=10, encode='ordinal', strategy='quantile')\n",
    "p = pp.Preprocessor([('discretizer', discretizer)])  # Только дискретизация\n",
    "data, est = p.apply(df_new)\n",
    "info_r = p.info"
   ]
  },
  {
   "cell_type": "code",
   "execution_count": 13,
   "id": "1167472b",
   "metadata": {},
   "outputs": [
    {
     "data": {
      "text/html": [
       "<div>\n",
       "<style scoped>\n",
       "    .dataframe tbody tr th:only-of-type {\n",
       "        vertical-align: middle;\n",
       "    }\n",
       "\n",
       "    .dataframe tbody tr th {\n",
       "        vertical-align: top;\n",
       "    }\n",
       "\n",
       "    .dataframe thead th {\n",
       "        text-align: right;\n",
       "    }\n",
       "</style>\n",
       "<table border=\"1\" class=\"dataframe\">\n",
       "  <thead>\n",
       "    <tr style=\"text-align: right;\">\n",
       "      <th></th>\n",
       "      <th>C</th>\n",
       "      <th>du/dx2{power: 1.0} * u{power: 1.0}</th>\n",
       "      <th>du/dx1{power: 1.0}_r</th>\n",
       "      <th>du/dx2{power: 1.0}_r</th>\n",
       "    </tr>\n",
       "  </thead>\n",
       "  <tbody>\n",
       "    <tr>\n",
       "      <th>0</th>\n",
       "      <td>0</td>\n",
       "      <td>0</td>\n",
       "      <td>-1</td>\n",
       "      <td>0</td>\n",
       "    </tr>\n",
       "    <tr>\n",
       "      <th>1</th>\n",
       "      <td>0</td>\n",
       "      <td>0</td>\n",
       "      <td>-1</td>\n",
       "      <td>0</td>\n",
       "    </tr>\n",
       "    <tr>\n",
       "      <th>2</th>\n",
       "      <td>0</td>\n",
       "      <td>0</td>\n",
       "      <td>-1</td>\n",
       "      <td>0</td>\n",
       "    </tr>\n",
       "    <tr>\n",
       "      <th>3</th>\n",
       "      <td>0</td>\n",
       "      <td>0</td>\n",
       "      <td>-1</td>\n",
       "      <td>0</td>\n",
       "    </tr>\n",
       "    <tr>\n",
       "      <th>4</th>\n",
       "      <td>0</td>\n",
       "      <td>0</td>\n",
       "      <td>-1</td>\n",
       "      <td>0</td>\n",
       "    </tr>\n",
       "    <tr>\n",
       "      <th>...</th>\n",
       "      <td>...</td>\n",
       "      <td>...</td>\n",
       "      <td>...</td>\n",
       "      <td>...</td>\n",
       "    </tr>\n",
       "    <tr>\n",
       "      <th>77</th>\n",
       "      <td>0</td>\n",
       "      <td>0</td>\n",
       "      <td>-1</td>\n",
       "      <td>0</td>\n",
       "    </tr>\n",
       "    <tr>\n",
       "      <th>78</th>\n",
       "      <td>0</td>\n",
       "      <td>0</td>\n",
       "      <td>-1</td>\n",
       "      <td>0</td>\n",
       "    </tr>\n",
       "    <tr>\n",
       "      <th>79</th>\n",
       "      <td>0</td>\n",
       "      <td>0</td>\n",
       "      <td>-1</td>\n",
       "      <td>0</td>\n",
       "    </tr>\n",
       "    <tr>\n",
       "      <th>80</th>\n",
       "      <td>0</td>\n",
       "      <td>0</td>\n",
       "      <td>-1</td>\n",
       "      <td>0</td>\n",
       "    </tr>\n",
       "    <tr>\n",
       "      <th>81</th>\n",
       "      <td>0</td>\n",
       "      <td>0</td>\n",
       "      <td>-1</td>\n",
       "      <td>0</td>\n",
       "    </tr>\n",
       "  </tbody>\n",
       "</table>\n",
       "<p>82 rows × 4 columns</p>\n",
       "</div>"
      ],
      "text/plain": [
       "    C  du/dx2{power: 1.0} * u{power: 1.0} du/dx1{power: 1.0}_r  \\\n",
       "0   0                                   0                   -1   \n",
       "1   0                                   0                   -1   \n",
       "2   0                                   0                   -1   \n",
       "3   0                                   0                   -1   \n",
       "4   0                                   0                   -1   \n",
       ".. ..                                 ...                  ...   \n",
       "77  0                                   0                   -1   \n",
       "78  0                                   0                   -1   \n",
       "79  0                                   0                   -1   \n",
       "80  0                                   0                   -1   \n",
       "81  0                                   0                   -1   \n",
       "\n",
       "   du/dx2{power: 1.0}_r  \n",
       "0                     0  \n",
       "1                     0  \n",
       "2                     0  \n",
       "3                     0  \n",
       "4                     0  \n",
       "..                  ...  \n",
       "77                    0  \n",
       "78                    0  \n",
       "79                    0  \n",
       "80                    0  \n",
       "81                    0  \n",
       "\n",
       "[82 rows x 4 columns]"
      ]
     },
     "execution_count": 13,
     "metadata": {},
     "output_type": "execute_result"
    }
   ],
   "source": [
    "data"
   ]
  },
  {
   "cell_type": "code",
   "execution_count": 14,
   "id": "c25ca1c7",
   "metadata": {},
   "outputs": [],
   "source": [
    "bn = Nets.HybridBN(has_logit=True, use_mixture=False) # Тип сети (Гибридный - правая часть имеет дискретные значения)"
   ]
  },
  {
   "cell_type": "code",
   "execution_count": 15,
   "id": "2e0f47ac",
   "metadata": {},
   "outputs": [],
   "source": [
    "bn.add_nodes(info_r) # Создание узлов"
   ]
  },
  {
   "cell_type": "code",
   "execution_count": 16,
   "id": "42c70b79",
   "metadata": {},
   "outputs": [
    {
     "data": {
      "text/html": [
       "<div>\n",
       "<style scoped>\n",
       "    .dataframe tbody tr th:only-of-type {\n",
       "        vertical-align: middle;\n",
       "    }\n",
       "\n",
       "    .dataframe tbody tr th {\n",
       "        vertical-align: top;\n",
       "    }\n",
       "\n",
       "    .dataframe thead th {\n",
       "        text-align: right;\n",
       "    }\n",
       "</style>\n",
       "<table border=\"1\" class=\"dataframe\">\n",
       "  <thead>\n",
       "    <tr style=\"text-align: right;\">\n",
       "      <th></th>\n",
       "      <th>name</th>\n",
       "      <th>node_type</th>\n",
       "      <th>data_type</th>\n",
       "      <th>parents</th>\n",
       "      <th>parents_types</th>\n",
       "    </tr>\n",
       "  </thead>\n",
       "  <tbody>\n",
       "    <tr>\n",
       "      <th>0</th>\n",
       "      <td>C</td>\n",
       "      <td>Gaussian</td>\n",
       "      <td>cont</td>\n",
       "      <td>[]</td>\n",
       "      <td>[]</td>\n",
       "    </tr>\n",
       "    <tr>\n",
       "      <th>1</th>\n",
       "      <td>du/dx2{power: 1.0} * u{power: 1.0}</td>\n",
       "      <td>Gaussian</td>\n",
       "      <td>cont</td>\n",
       "      <td>[]</td>\n",
       "      <td>[]</td>\n",
       "    </tr>\n",
       "    <tr>\n",
       "      <th>2</th>\n",
       "      <td>du/dx1{power: 1.0}_r</td>\n",
       "      <td>Discrete</td>\n",
       "      <td>disc</td>\n",
       "      <td>[]</td>\n",
       "      <td>[]</td>\n",
       "    </tr>\n",
       "    <tr>\n",
       "      <th>3</th>\n",
       "      <td>du/dx2{power: 1.0}_r</td>\n",
       "      <td>Discrete</td>\n",
       "      <td>disc</td>\n",
       "      <td>[]</td>\n",
       "      <td>[]</td>\n",
       "    </tr>\n",
       "  </tbody>\n",
       "</table>\n",
       "</div>"
      ],
      "text/plain": [
       "                                 name node_type data_type parents  \\\n",
       "0                                   C  Gaussian      cont      []   \n",
       "1  du/dx2{power: 1.0} * u{power: 1.0}  Gaussian      cont      []   \n",
       "2                du/dx1{power: 1.0}_r  Discrete      disc      []   \n",
       "3                du/dx2{power: 1.0}_r  Discrete      disc      []   \n",
       "\n",
       "  parents_types  \n",
       "0            []  \n",
       "1            []  \n",
       "2            []  \n",
       "3            []  "
      ]
     },
     "execution_count": 16,
     "metadata": {},
     "output_type": "execute_result"
    }
   ],
   "source": [
    "bn.get_info()"
   ]
  },
  {
   "cell_type": "code",
   "execution_count": 17,
   "id": "02ba7924",
   "metadata": {},
   "outputs": [],
   "source": [
    "# Корневые узлы (структура/ы, которые встречаются наиболее часто)\n",
    "params = {'init_nodes': ['du/dx2{power: 1.0} * u{power: 1.0}']}"
   ]
  },
  {
   "cell_type": "code",
   "execution_count": 18,
   "id": "37befc40",
   "metadata": {},
   "outputs": [
    {
     "data": {
      "application/vnd.jupyter.widget-view+json": {
       "model_id": "73c32b5fa1374004ad935cab903d1341",
       "version_major": 2,
       "version_minor": 0
      },
      "text/plain": [
       "  0%|          | 0/1000000 [00:00<?, ?it/s]"
      ]
     },
     "metadata": {},
     "output_type": "display_data"
    }
   ],
   "source": [
    "bn.add_edges(data, scoring_function=('K2', K2Score), params=params)"
   ]
  },
  {
   "cell_type": "markdown",
   "id": "d8ee75bd",
   "metadata": {},
   "source": [
    "### 3.Обучение параметров сети и семплирование"
   ]
  },
  {
   "cell_type": "code",
   "execution_count": 21,
   "id": "1bd44d2f",
   "metadata": {
    "scrolled": true
   },
   "outputs": [
    {
     "name": "stdout",
     "output_type": "stream",
     "text": [
      "CPU times: total: 0 ns\n",
      "Wall time: 4 ms\n"
     ]
    }
   ],
   "source": [
    "%%time\n",
    "bn.fit_parameters(df_new)"
   ]
  },
  {
   "cell_type": "code",
   "execution_count": 22,
   "id": "dfe3e030",
   "metadata": {},
   "outputs": [],
   "source": [
    "def get_objects(synth_data): # without config_bamt\n",
    "    \"\"\"\n",
    "    Parameters\n",
    "        ----------\n",
    "        synth_data : pd.dataframe\n",
    "            The fields in the table are structures of received systems/equations,\n",
    "            where each record/row contains coefficients at each structure\n",
    "        config_bamt:  class Config from TEDEouS/config.py contains the initial configuration of the task\n",
    "    Returns\n",
    "        -------\n",
    "        objects_result - list objects (combination of equations or systems)\n",
    "    \"\"\"\n",
    "    objects = [] # equations or systems\n",
    "    for i in range(len(synth_data)):\n",
    "        object_row = {}\n",
    "        for col in synth_data.columns:\n",
    "            object_row[synth_data[col].name] = synth_data[col].values[i]\n",
    "        objects.append(object_row)\n",
    "\n",
    "    objects_result = []\n",
    "    for i in range(len(synth_data)):\n",
    "        object_res = {}\n",
    "        for key, value in objects[i].items():\n",
    "            if abs(float(value)) > 0.00001: # > config_bamt.params[\"glob_bamt\"][\"lambda\"]:\n",
    "                object_res[key] = value\n",
    "        objects_result.append(object_res)\n",
    "\n",
    "    return objects_result"
   ]
  },
  {
   "cell_type": "code",
   "execution_count": 23,
   "id": "d5955905",
   "metadata": {},
   "outputs": [
    {
     "name": "stderr",
     "output_type": "stream",
     "text": [
      "100%|██████████| 50/50 [00:00<00:00, 16611.10it/s]\n"
     ]
    }
   ],
   "source": [
    "objects_res = []\n",
    "sample_k = 35\n",
    "while len(objects_res) < sample_k:\n",
    "    synth_data = bn.sample(50, as_df=True)\n",
    "    temp_res = get_objects(synth_data)\n",
    "\n",
    "    if len(temp_res) + len(objects_res) > sample_k:\n",
    "        objects_res += temp_res[:sample_k - len(objects_res)]\n",
    "    else:\n",
    "        objects_res += temp_res"
   ]
  },
  {
   "cell_type": "code",
   "execution_count": 27,
   "id": "eaca5d91",
   "metadata": {},
   "outputs": [
    {
     "name": "stdout",
     "output_type": "stream",
     "text": [
      "Структура = C\n",
      "Количество строк: 50\n",
      "Выборочное среднее (m) = -0.001593555372866898\n",
      "Cтандартное отклонение выборки (s) = 0.003140235309248354\n",
      "maximum_estimation_error = 0.0008704288192228508\n",
      "interval estimation: -0.002463984192089749 <= m <= -0.0007231265536440471\n",
      "--------------------------\n",
      "Структура = du/dx2{power: 1.0} * u{power: 1.0}\n",
      "Количество строк: 50\n",
      "Выборочное среднее (m) = -0.9692454314258486\n",
      "Cтандартное отклонение выборки (s) = 0.19189518250948853\n",
      "maximum_estimation_error = 0.053190630853159886\n",
      "interval estimation: -1.0224360622790085 <= m <= -0.9160548005726887\n",
      "--------------------------\n",
      "Структура = du/dx1{power: 1.0}_r\n",
      "Количество строк: 48\n",
      "Выборочное среднее (m) = -1.0\n",
      "Cтандартное отклонение выборки (s) = 0.0\n",
      "maximum_estimation_error = 0.0\n",
      "interval estimation: -1.0 <= m <= -1.0\n",
      "--------------------------\n"
     ]
    }
   ],
   "source": [
    "import math\n",
    "for col in synth_data.columns:\n",
    "    column_temp = synth_data[col].astype(float)\n",
    "    column_main = column_temp[column_temp != 0] # Ноль - это не коэффициент, а параметр, что данная структура отсутствует в ур-нии\n",
    "    if len(column_main) < 30:\n",
    "        continue\n",
    "    print(f'Структура = {col}')    \n",
    "    print(f'Количество строк: {len(column_main)}')\n",
    "    m = np.mean(column_main)\n",
    "    print(f'Выборочное среднее (m) = {m}')\n",
    "    s = math.sqrt(np.sum(list(map(lambda x: (x - m)**2, column_main)))/(len(column_main) - 1)) # cтандартное отклонение выборки)\n",
    "    print(f'Cтандартное отклонение выборки (s) = {s}')\n",
    "    # Доверительный интервал для среднего при неизвестной дисперсии\n",
    "    maximum_estimation_error = 1.96 * s / math.sqrt(len(column_main))\n",
    "    print(f'maximum_estimation_error = {maximum_estimation_error}')\n",
    "    lower = m - maximum_estimation_error\n",
    "    upper = m + maximum_estimation_error\n",
    "    print(f'interval estimation: {lower} <= m <= {upper}')\n",
    "    print('--------------------------')"
   ]
  }
 ],
 "metadata": {
  "hide_input": false,
  "kernelspec": {
   "display_name": "Python 3 (ipykernel)",
   "language": "python",
   "name": "python3"
  },
  "language_info": {
   "codemirror_mode": {
    "name": "ipython",
    "version": 3
   },
   "file_extension": ".py",
   "mimetype": "text/x-python",
   "name": "python",
   "nbconvert_exporter": "python",
   "pygments_lexer": "ipython3",
   "version": "3.9.16"
  }
 },
 "nbformat": 4,
 "nbformat_minor": 5
}
